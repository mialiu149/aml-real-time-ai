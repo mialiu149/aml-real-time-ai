{
 "cells": [
  {
   "cell_type": "markdown",
   "metadata": {},
   "source": [
    "# Model Development"
   ]
  },
  {
   "cell_type": "markdown",
   "metadata": {},
   "source": [
    "This example shows how to build, train, evaluate and deploy a model running on FPGA. Only Windows is supported. We use TensorFlow and Keras to build our model. We are going to use transfer learning, with ResNet50 as a featurizer. We don't use the last layer of ResNet50 in this case and instead add and train our own classification layer.\n",
    "\n",
    "We will use the Kaggle Cats and Dogs dataset to train the classifier. The data set can be downloaded [here](https://www.microsoft.com/en-us/download/details.aspx?id=54765). Download the zip and extract to a directory named 'catsanddogs' under your user directory (\"~/catsanddogs\").\n",
    "\n",
    "Please set up your environment as described in the [quick start](00_QuickStart.ipynb)."
   ]
  },
  {
   "cell_type": "code",
   "execution_count": 27,
   "metadata": {},
   "outputs": [
    {
     "name": "stdout",
     "output_type": "stream",
     "text": [
      "Requirement already satisfied: h5py in /Users/mialiu/anaconda3/envs/amlrealtimeai/lib/python3.6/site-packages (2.8.0)\n",
      "Requirement already satisfied: six in /Users/mialiu/anaconda3/envs/amlrealtimeai/lib/python3.6/site-packages (from h5py) (1.11.0)\n",
      "Requirement already satisfied: numpy>=1.7 in /Users/mialiu/anaconda3/envs/amlrealtimeai/lib/python3.6/site-packages (from h5py) (1.15.1)\n",
      "\u001b[31mtwisted 18.7.0 requires PyHamcrest>=1.9.0, which is not installed.\u001b[0m\n",
      "\u001b[31mmkl-random 1.0.1 requires cython, which is not installed.\u001b[0m\n",
      "\u001b[31mmkl-fft 1.0.4 requires cython, which is not installed.\u001b[0m\n",
      "\u001b[33mYou are using pip version 10.0.1, however version 18.0 is available.\n",
      "You should consider upgrading via the 'pip install --upgrade pip' command.\u001b[0m\n"
     ]
    }
   ],
   "source": [
    "import os\n",
    "import sys\n",
    "import tensorflow as tf\n",
    "import numpy as np\n",
    "import amlrealtimeai\n",
    "from amlrealtimeai import resnet50\n",
    "import sys\n",
    "!{sys.executable} -m pip install h5py\n",
    "import h5py"
   ]
  },
  {
   "cell_type": "markdown",
   "metadata": {},
   "source": [
    "## Model Construction\n",
    "Load the files we are going to use for training and testing. By default this notebook uses only a very small subset of the Cats and Dogs dataset. That makes it run quickly, but doesn't create a very accurate classifier. You can improve the classifier by using more of the dataset."
   ]
  },
  {
   "cell_type": "markdown",
   "metadata": {},
   "source": [
    "We need to preprocess the input file to get it into the form expected by ResNet50. We've provided a default implementation of the preprocessing that you can use."
   ]
  },
  {
   "cell_type": "code",
   "execution_count": 28,
   "metadata": {},
   "outputs": [
    {
     "name": "stdout",
     "output_type": "stream",
     "text": [
      "<class 'tensorflow.python.framework.ops.Tensor'>\n"
     ]
    }
   ],
   "source": [
    "# Input images as a two-dimensional tensor containing an arbitrary number of images represented a strings\n",
    "import amlrealtimeai.resnet50.utils\n",
    "#datadir = os.path.expanduser(\"/Users/mialiu/Downloads/\")\n",
    "in_images = tf.placeholder(tf.string)\n",
    "image_tensors = resnet50.utils.preprocess_array(in_images)\n",
    "image_tensors = tf.placeholder(tf.int32,shape=(None,224, 224, 3))\n",
    "#print(image_tensors.shape)\n",
    "print(type(image_tensors))"
   ]
  },
  {
   "cell_type": "markdown",
   "metadata": {},
   "source": [
    "Alternatively, if you would like to customize the preprocessing, you can write your own preprocessor using TensorFlow operations.\n",
    "\n",
    "The input to the classifier we are training is the set of features produced by ResNet50. To train the classifier we need to \n",
    "featurize the images using resnet50. We do this using a featurizer running on FPGA. You can also run the featurizer locally on CPU or GPU.\n",
    "\n",
    "Go to our [GitHub repo](https://aka.ms/aml-real-time-ai) \"docs\" folder to learn how to create a Model Management Account and find the required information below."
   ]
  },
  {
   "cell_type": "code",
   "execution_count": 29,
   "metadata": {},
   "outputs": [
    {
     "name": "stdout",
     "output_type": "stream",
     "text": [
      "1.1.6-rc\n"
     ]
    }
   ],
   "source": [
    "subscription_id = \"80defacd-509e-410c-9812-6e52ed6a0016\"\n",
    "resource_group = \"CMS_FPGA_Resources\"\n",
    "model_management_account = \"CMS_FPGA_1\"\n",
    "\n",
    "from amlrealtimeai.resnet50.model import RemoteQuantizedResNet50\n",
    "model_path = os.path.expanduser('~/models')\n",
    "featurizer = RemoteQuantizedResNet50(subscription_id, resource_group, model_management_account, model_path)\n",
    "print(featurizer.version)"
   ]
  },
  {
   "cell_type": "markdown",
   "metadata": {},
   "source": [
    "Calling import_graph_def on the featurizer will create a service that runs the featurizer on FPGA."
   ]
  },
  {
   "cell_type": "code",
   "execution_count": 30,
   "metadata": {},
   "outputs": [],
   "source": [
    "featurizer.import_graph_def(include_top=False, input_tensor=image_tensors)\n",
    "features = featurizer.featurizer_output"
   ]
  },
  {
   "cell_type": "code",
   "execution_count": 31,
   "metadata": {},
   "outputs": [],
   "source": [
    "def preprocess_oneimage(np_array):\n",
    "    image = tf.cast(np_array, dtype=tf.float32)\n",
    "    output_width = 224\n",
    "    output_height = 224\n",
    "    resize_min = 256\n",
    "\n",
    "    #image_grayscale = tf.image.grayscale_to_rgb(image)\n",
    "    image_grayscale = image\n",
    "    image_resize = tf.image.resize_images(image_grayscale, [224,224])\n",
    "    #image_resize = amlrealtimeai.resnet50.utils._aspect_preserving_resize(image, resize_min)\n",
    "    #image_resize = amlrealtimeai.resnet50.utils._central_crop(image, output_height, output_width)\n",
    "    image_resize.set_shape([output_height, output_width, 3])\n",
    "    image_resize = tf.to_float(image_resize)\n",
    "    image_resize = tf.expand_dims(image_resize, 0)\n",
    "\n",
    "    slice_red = tf.slice(image_resize, [0, 0, 0, 0], [1, 224, 224, 1])\n",
    "    slice_green = tf.slice(image_resize, [0, 0, 0, 1], [1, 224, 224, 1])\n",
    "    slice_blue = tf.slice(image_resize, [0, 0, 0, 2], [1, 224, 224, 1])\n",
    "\n",
    "    #sub_red = tf.subtract(slice_red, 123.68)\n",
    "    #sub_green = tf.subtract(slice_green, 116.779)\n",
    "    #sub_blue = tf.subtract(slice_blue, 103.939)\n",
    "    sub_red = tf.subtract(slice_red, 0)\n",
    "    sub_green = tf.subtract(slice_green, 0)\n",
    "    sub_blue = tf.subtract(slice_blue, 0)\n",
    "    return tf.concat([sub_blue, sub_green, sub_red], 3)\n",
    "def _decode(tensor):\n",
    "    return tf.squeeze(preprocess_oneimage(tensor))\n",
    "def preprocess_nparray(in_images):\n",
    "    #tf.convert_to_tensor(in_images)\n",
    "    return tf.map_fn(_decode,in_images, tf.float32)\n",
    "# Load MNIST\n",
    "f = h5py.File(\"/Users/mialiu/Downloads/jetImage_Merged.h5\",'r')\n",
    "a = np.array(f['jetImage']) # images\n",
    "b = np.array(f[\"jets\"])[:,-6:-1] # labels\n",
    "# randomly shuffle label and images, keep the indexing\n",
    "c = np.c_[a.reshape(len(a), -1), b.reshape(len(b), -1)]\n",
    "np.random.shuffle(c)\n",
    "image = c[:, :a.size//len(a)].reshape(a.shape)\n",
    "onehot_labels = c[:, a.size//len(a):].reshape(b.shape)\n",
    "# notebooks die if use the full dataset, needs a solution\n",
    "\n",
    "#NUMBER_OF_DATA = image.shape[0]\n",
    "NUMBER_OF_DATA = 10000\n",
    "image = image[:NUMBER_OF_DATA]\n",
    "onehot_labels = onehot_labels[:NUMBER_OF_DATA]\n",
    "#normalize image to 0-255 per image.\n",
    "image_sum = 1/np.sum(np.sum(image,axis=1),axis=-1)\n",
    "given_axis = 0\n",
    "# Create an array which would be used to reshape 1D array, b to have \n",
    "# singleton dimensions except for the given axis where we would put -1 \n",
    "# signifying to use the entire length of elements along that axis  \n",
    "dim_array = np.ones((1,image.ndim),int).ravel()\n",
    "dim_array[given_axis] = -1\n",
    "# Reshape b with dim_array and perform elementwise multiplication with \n",
    "# broadcasting along the singleton dimensions for the final output\n",
    "image_sum_reshaped = image_sum.reshape(dim_array)\n",
    "image = image*image_sum_reshaped*255\n",
    "\n",
    "# make it rgb by duplicating 3 channels.\n",
    "images = np.stack([image, image, image],axis=-1)\n",
    "images_tf = tf.convert_to_tensor(images)\n",
    "images_preprocessed = preprocess_nparray(images_tf)\n",
    "\n",
    "with tf.Session() as sess:\n",
    "     images_array = images_preprocessed.eval(session=sess)\n",
    "f.close()\n"
   ]
  },
  {
   "cell_type": "markdown",
   "metadata": {},
   "source": [
    "## Pre-compute features\n",
    "Load the data set and compute the features. These can be precomputed because they don't change during training."
   ]
  },
  {
   "cell_type": "code",
   "execution_count": 32,
   "metadata": {
    "scrolled": false
   },
   "outputs": [
    {
     "name": "stderr",
     "output_type": "stream",
     "text": [
      "\r",
      "0it [00:00, ?it/s]"
     ]
    },
    {
     "name": "stdout",
     "output_type": "stream",
     "text": [
      "Retrying <_Rendezvous of RPC that terminated with:\n",
      "\tstatus = StatusCode.UNAVAILABLE\n",
      "\tdetails = \"OS Error\"\n",
      "\tdebug_error_string = \"{\"created\":\"@1538750838.301193000\",\"description\":\"Error received from peer\",\"file\":\"src/core/lib/surface/call.cc\",\"file_line\":1099,\"grpc_message\":\"OS Error\",\"grpc_status\":14}\"\n",
      ">\n"
     ]
    },
    {
     "name": "stderr",
     "output_type": "stream",
     "text": [
      "96it [24:26, 15.28s/it]"
     ]
    },
    {
     "name": "stdout",
     "output_type": "stream",
     "text": [
      "Retrying <_Rendezvous of RPC that terminated with:\n",
      "\tstatus = StatusCode.DEADLINE_EXCEEDED\n",
      "\tdetails = \"Deadline Exceeded\"\n",
      "\tdebug_error_string = \"{\"created\":\"@1538752314.969489000\",\"description\":\"Error received from peer\",\"file\":\"src/core/lib/surface/call.cc\",\"file_line\":1099,\"grpc_message\":\"Deadline Exceeded\",\"grpc_status\":4}\"\n",
      ">\n"
     ]
    },
    {
     "name": "stderr",
     "output_type": "stream",
     "text": [
      "100it [26:37, 15.97s/it]\n"
     ]
    },
    {
     "name": "stdout",
     "output_type": "stream",
     "text": [
      "(10000, 1, 1, 2048)\n"
     ]
    }
   ],
   "source": [
    "from tqdm import tqdm\n",
    "\n",
    "def chunks(l, n):\n",
    "    \"\"\"Yield successive n-sized chunks from a file.\"\"\"\n",
    "    for i in range(0, l.shape[0], n):\n",
    "        yield l[i:i + n]\n",
    "\n",
    "def read_files(files):\n",
    "    contents = []\n",
    "    for path in files:\n",
    "        with open(path, 'rb') as f:\n",
    "            contents.append(f.read())\n",
    "    return contents\n",
    "        \n",
    "feature_list = []\n",
    "\n",
    "with tf.Session() as sess:\n",
    "    for chunk in tqdm(chunks(images_array,100)):\n",
    "        result= sess.run([features],feed_dict={image_tensors:chunk}) # \n",
    "        feature_list.extend(result[0])\n",
    "feature_results = np.array(feature_list)\n",
    "print(feature_results.shape)"
   ]
  },
  {
   "cell_type": "markdown",
   "metadata": {},
   "source": [
    "Remove remote service"
   ]
  },
  {
   "cell_type": "code",
   "execution_count": 7,
   "metadata": {},
   "outputs": [
    {
     "name": "stdout",
     "output_type": "stream",
     "text": [
      "Deleting service efad797ecce04bdaa6b4508e9ac10554\n",
      ". . . . . . . . . . . . . . . . . . . . . . . . . . . . . . . . . . . . . . . . . . . . . . . . . . . . . \n",
      "Deleted service efad797ecce04bdaa6b4508e9ac10554\n",
      "Deleting model 28058550e1bb4a0094a450602cf9d042\n",
      "Deleted model 28058550e1bb4a0094a450602cf9d042\n"
     ]
    }
   ],
   "source": [
    "featurizer.cleanup_remote_service()"
   ]
  },
  {
   "cell_type": "markdown",
   "metadata": {},
   "source": [
    "## Add and Train the classifier\n",
    "We use Keras to define and train a simple classifier."
   ]
  },
  {
   "cell_type": "code",
   "execution_count": 33,
   "metadata": {},
   "outputs": [],
   "source": [
    "from keras.models import Sequential\n",
    "from keras.layers import Dropout, Dense, Flatten\n",
    "from keras import optimizers\n",
    "\n",
    "FC_SIZE = 1024\n",
    "NUM_CLASSES = 5\n",
    "\n",
    "model = Sequential()\n",
    "model.add(Dropout(0.2, input_shape=(1, 1, 2048,)))\n",
    "model.add(Dense(FC_SIZE, activation='relu', input_dim=(1, 1, 2048,)))\n",
    "model.add(Flatten())\n",
    "model.add(Dense(NUM_CLASSES, activation='sigmoid', input_dim=FC_SIZE))\n",
    "\n",
    "model.compile(optimizer=optimizers.SGD(lr=1e-4,momentum=0.9), loss='binary_crossentropy', metrics=['accuracy'])\n"
   ]
  },
  {
   "cell_type": "markdown",
   "metadata": {},
   "source": [
    "Prepare the train and test data."
   ]
  },
  {
   "cell_type": "code",
   "execution_count": 34,
   "metadata": {},
   "outputs": [
    {
     "name": "stdout",
     "output_type": "stream",
     "text": [
      "(7500, 1, 1, 2048) (2500, 1, 1, 2048) (7500, 5) (2500, 5)\n"
     ]
    }
   ],
   "source": [
    "from sklearn.model_selection import train_test_split\n",
    "X_train, X_test, y_train, y_test = train_test_split(feature_results, onehot_labels, random_state=42, shuffle=True)\n",
    "print(X_train.shape, X_test.shape, y_train.shape, y_test.shape)"
   ]
  },
  {
   "cell_type": "markdown",
   "metadata": {},
   "source": [
    "Train the classifier."
   ]
  },
  {
   "cell_type": "code",
   "execution_count": 35,
   "metadata": {},
   "outputs": [
    {
     "name": "stdout",
     "output_type": "stream",
     "text": [
      "Epoch 1/50\n",
      "7500/7500 [==============================] - 16s 2ms/step - loss: 0.4878 - acc: 0.7967\n",
      "Epoch 2/50\n",
      "7500/7500 [==============================] - 13s 2ms/step - loss: 0.4553 - acc: 0.8059\n",
      "Epoch 3/50\n",
      "7500/7500 [==============================] - 12s 2ms/step - loss: 0.4413 - acc: 0.8135\n",
      "Epoch 4/50\n",
      "7500/7500 [==============================] - 13s 2ms/step - loss: 0.4330 - acc: 0.8167\n",
      "Epoch 5/50\n",
      "7500/7500 [==============================] - 13s 2ms/step - loss: 0.4275 - acc: 0.8190\n",
      "Epoch 6/50\n",
      "7500/7500 [==============================] - 12s 2ms/step - loss: 0.4218 - acc: 0.8204\n",
      "Epoch 7/50\n",
      "7500/7500 [==============================] - 13s 2ms/step - loss: 0.4205 - acc: 0.8207\n",
      "Epoch 8/50\n",
      "7500/7500 [==============================] - 12s 2ms/step - loss: 0.4160 - acc: 0.8212\n",
      "Epoch 9/50\n",
      "7500/7500 [==============================] - 13s 2ms/step - loss: 0.4143 - acc: 0.8222\n",
      "Epoch 10/50\n",
      "7500/7500 [==============================] - 13s 2ms/step - loss: 0.4126 - acc: 0.8228\n",
      "Epoch 11/50\n",
      "7500/7500 [==============================] - 13s 2ms/step - loss: 0.4115 - acc: 0.8220\n",
      "Epoch 12/50\n",
      "7500/7500 [==============================] - 13s 2ms/step - loss: 0.4106 - acc: 0.8229\n",
      "Epoch 13/50\n",
      "7500/7500 [==============================] - 12s 2ms/step - loss: 0.4090 - acc: 0.8219\n",
      "Epoch 14/50\n",
      "7500/7500 [==============================] - 12s 2ms/step - loss: 0.4065 - acc: 0.8233\n",
      "Epoch 15/50\n",
      "7500/7500 [==============================] - 12s 2ms/step - loss: 0.4065 - acc: 0.8229\n",
      "Epoch 16/50\n",
      "7500/7500 [==============================] - 12s 2ms/step - loss: 0.4048 - acc: 0.8233\n",
      "Epoch 17/50\n",
      "7500/7500 [==============================] - 12s 2ms/step - loss: 0.4025 - acc: 0.8251\n",
      "Epoch 18/50\n",
      "7500/7500 [==============================] - 12s 2ms/step - loss: 0.4024 - acc: 0.8247\n",
      "Epoch 19/50\n",
      "7500/7500 [==============================] - 12s 2ms/step - loss: 0.4020 - acc: 0.8239\n",
      "Epoch 20/50\n",
      "7500/7500 [==============================] - 12s 2ms/step - loss: 0.4016 - acc: 0.8246\n",
      "Epoch 21/50\n",
      "7500/7500 [==============================] - 13s 2ms/step - loss: 0.4000 - acc: 0.8246\n",
      "Epoch 22/50\n",
      "7500/7500 [==============================] - 12s 2ms/step - loss: 0.4004 - acc: 0.8266\n",
      "Epoch 23/50\n",
      "7500/7500 [==============================] - 13s 2ms/step - loss: 0.3995 - acc: 0.8252\n",
      "Epoch 24/50\n",
      "7500/7500 [==============================] - 13s 2ms/step - loss: 0.3988 - acc: 0.8234\n",
      "Epoch 25/50\n",
      "7500/7500 [==============================] - 12s 2ms/step - loss: 0.3978 - acc: 0.8261\n",
      "Epoch 26/50\n",
      "7500/7500 [==============================] - 13s 2ms/step - loss: 0.3967 - acc: 0.8255\n",
      "Epoch 27/50\n",
      "7500/7500 [==============================] - 12s 2ms/step - loss: 0.3963 - acc: 0.8262\n",
      "Epoch 28/50\n",
      "7500/7500 [==============================] - 13s 2ms/step - loss: 0.3959 - acc: 0.8244\n",
      "Epoch 29/50\n",
      "7500/7500 [==============================] - 12s 2ms/step - loss: 0.3946 - acc: 0.8272\n",
      "Epoch 30/50\n",
      "7500/7500 [==============================] - 12s 2ms/step - loss: 0.3951 - acc: 0.8266\n",
      "Epoch 31/50\n",
      "7500/7500 [==============================] - 12s 2ms/step - loss: 0.3931 - acc: 0.8256\n",
      "Epoch 32/50\n",
      "7500/7500 [==============================] - 12s 2ms/step - loss: 0.3937 - acc: 0.8263\n",
      "Epoch 33/50\n",
      "7500/7500 [==============================] - 12s 2ms/step - loss: 0.3936 - acc: 0.8272\n",
      "Epoch 34/50\n",
      "7500/7500 [==============================] - 13s 2ms/step - loss: 0.3940 - acc: 0.8259\n",
      "Epoch 35/50\n",
      "7500/7500 [==============================] - 12s 2ms/step - loss: 0.3932 - acc: 0.8248\n",
      "Epoch 36/50\n",
      "7500/7500 [==============================] - 12s 2ms/step - loss: 0.3916 - acc: 0.8266\n",
      "Epoch 37/50\n",
      "7500/7500 [==============================] - 13s 2ms/step - loss: 0.3916 - acc: 0.8269\n",
      "Epoch 38/50\n",
      "7500/7500 [==============================] - 12s 2ms/step - loss: 0.3912 - acc: 0.8264\n",
      "Epoch 39/50\n",
      "7500/7500 [==============================] - 11s 2ms/step - loss: 0.3906 - acc: 0.8282\n",
      "Epoch 40/50\n",
      "7500/7500 [==============================] - 12s 2ms/step - loss: 0.3904 - acc: 0.8258\n",
      "Epoch 41/50\n",
      "7500/7500 [==============================] - 12s 2ms/step - loss: 0.3911 - acc: 0.8269\n",
      "Epoch 42/50\n",
      "7500/7500 [==============================] - 12s 2ms/step - loss: 0.3914 - acc: 0.8270\n",
      "Epoch 43/50\n",
      "7500/7500 [==============================] - 12s 2ms/step - loss: 0.3900 - acc: 0.8282\n",
      "Epoch 44/50\n",
      "7500/7500 [==============================] - 12s 2ms/step - loss: 0.3903 - acc: 0.8264\n",
      "Epoch 45/50\n",
      "7500/7500 [==============================] - 11s 2ms/step - loss: 0.3887 - acc: 0.8263\n",
      "Epoch 46/50\n",
      "7500/7500 [==============================] - 11s 2ms/step - loss: 0.3905 - acc: 0.8252\n",
      "Epoch 47/50\n",
      "7500/7500 [==============================] - 11s 2ms/step - loss: 0.3884 - acc: 0.8276\n",
      "Epoch 48/50\n",
      "7500/7500 [==============================] - 11s 2ms/step - loss: 0.3881 - acc: 0.8266\n",
      "Epoch 49/50\n",
      "7500/7500 [==============================] - 12s 2ms/step - loss: 0.3882 - acc: 0.8279\n",
      "Epoch 50/50\n",
      "7500/7500 [==============================] - 12s 2ms/step - loss: 0.3886 - acc: 0.8274\n"
     ]
    },
    {
     "data": {
      "text/plain": [
       "<keras.callbacks.History at 0x1a3c729240>"
      ]
     },
     "execution_count": 35,
     "metadata": {},
     "output_type": "execute_result"
    }
   ],
   "source": [
    "model.fit(X_train, y_train, epochs=50, batch_size=10)"
   ]
  },
  {
   "cell_type": "markdown",
   "metadata": {},
   "source": [
    "## Test the Classifier\n",
    "Let's test the classifier and see how well it does. Since we only trained on a few images, we are not expecting to win a Kaggle competition, but it will likely get most of the images correct. "
   ]
  },
  {
   "cell_type": "code",
   "execution_count": 36,
   "metadata": {},
   "outputs": [
    {
     "name": "stdout",
     "output_type": "stream",
     "text": [
      "[[0.01658157 0.03125555 0.5458601  0.61220026 0.1181857 ]\n",
      " [0.15883648 0.06959239 0.6290691  0.44223565 0.02114807]\n",
      " [0.08048899 0.06576791 0.31376943 0.34394994 0.21043907]\n",
      " ...\n",
      " [0.23785222 0.04303741 0.04290786 0.08142955 0.70126987]\n",
      " [0.27943274 0.619417   0.12453642 0.1036687  0.014342  ]\n",
      " [0.2787286  0.15243939 0.3760189  0.2984146  0.06231593]]\n",
      "[[0. 0. 0. 1. 0.]\n",
      " [0. 0. 0. 1. 0.]\n",
      " [1. 0. 0. 0. 0.]\n",
      " ...\n",
      " [1. 0. 0. 0. 0.]\n",
      " [0. 1. 0. 0. 0.]\n",
      " [1. 0. 0. 0. 0.]]\n",
      "[3 2 3 ... 4 1 2]\n",
      "[3 3 0 ... 0 1 0]\n"
     ]
    }
   ],
   "source": [
    "from numpy import argmax\n",
    "\n",
    "y_probs = model.predict(X_test)\n",
    "print(y_probs)\n",
    "print(y_test)\n",
    "y_prob_max = np.argmax(y_probs, 1)\n",
    "y_test_max = np.argmax(y_test, 1)\n",
    "print(y_prob_max)\n",
    "print(y_test_max)"
   ]
  },
  {
   "cell_type": "code",
   "execution_count": 37,
   "metadata": {},
   "outputs": [
    {
     "name": "stdout",
     "output_type": "stream",
     "text": [
      "Accuracy 0.5264\n",
      "Precision [0.51923077 0.54605263 0.38896366 0.51630435 0.71017274]\n",
      "Recall [0.28008299 0.65873016 0.60714286 0.36121673 0.72265625]\n",
      "F1 [0.3638814  0.5971223  0.47415915 0.42505593 0.71636012]\n",
      "Confusion Matrix [[135, 147, 108, 18, 74], [57, 332, 67, 16, 32], [27, 59, 289, 92, 9], [26, 61, 213, 190, 36], [15, 9, 66, 52, 370]]\n"
     ]
    },
    {
     "data": {
      "image/png": "[encoded data removed]",
      "text/plain": [
       "<Figure size 432x288 with 2 Axes>"
      ]
     },
     "metadata": {
      "needs_background": "light"
     },
     "output_type": "display_data"
    }
   ],
   "source": [
    "from sklearn.metrics import confusion_matrix, roc_auc_score, accuracy_score, precision_score, recall_score, f1_score\n",
    "import itertools\n",
    "import matplotlib\n",
    "from matplotlib import pyplot as plt\n",
    "\n",
    "# compute a bunch of classification metrics \n",
    "def classification_metrics(y_true, y_pred, y_prob):\n",
    "    cm_dict = {}\n",
    "    cm_dict['Accuracy'] = accuracy_score(y_true, y_pred)\n",
    "    cm_dict['Precision'] =  precision_score(y_true, y_pred, average=None)\n",
    "    cm_dict['Recall'] =  recall_score(y_true, y_pred, average=None)\n",
    "    cm_dict['F1'] =  f1_score(y_true, y_pred, average=None) \n",
    "    #cm_dict['AUC'] = roc_auc_score(y_true, y_prob[:,0])\n",
    "    cm_dict['Confusion Matrix'] = confusion_matrix(y_true, y_pred).tolist()\n",
    "    return cm_dict\n",
    "\n",
    "def plot_confusion_matrix(cm, classes, normalize=False, title='Confusion matrix', cmap=plt.cm.Blues):\n",
    "    \"\"\"Plots a confusion matrix.\n",
    "    Source: http://scikit-learn.org/stable/auto_examples/model_selection/plot_confusion_matrix.html\n",
    "    New BSD License - see appendix\n",
    "    \"\"\"\n",
    "    cm_max = cm.max()\n",
    "    cm_min = cm.min()\n",
    "    if cm_min > 0: cm_min = 0\n",
    "    if normalize:\n",
    "        cm = cm.astype('float') / cm.sum(axis=1)[:, np.newaxis]\n",
    "        cm_max = 1\n",
    "    plt.imshow(cm, interpolation='nearest', cmap=cmap)\n",
    "    plt.title(title)\n",
    "    plt.colorbar()\n",
    "    tick_marks = np.arange(len(classes))\n",
    "    plt.xticks(tick_marks, classes, rotation=45)\n",
    "    plt.yticks(tick_marks, classes)\n",
    "    thresh = cm_max / 2.\n",
    "    plt.clim(cm_min, cm_max)\n",
    "\n",
    "    for i, j in itertools.product(range(cm.shape[0]), range(cm.shape[1])):\n",
    "        plt.text(j, i,\n",
    "                 round(cm[i, j], 3),  # round to 3 decimals if they are float\n",
    "                 horizontalalignment=\"center\",\n",
    "                 color=\"white\" if cm[i, j] > thresh else \"black\")\n",
    "    plt.ylabel('True label')\n",
    "    plt.xlabel('Predicted label')\n",
    "    plt.show()\n",
    "    \n",
    "cm_dict = classification_metrics(y_test_max, y_prob_max, y_probs)\n",
    "for m in cm_dict:\n",
    "    print(m, cm_dict[m])\n",
    "cm = np.asarray(cm_dict['Confusion Matrix'])\n",
    "plot_confusion_matrix(cm, ['quark','gluon','W','Z','top'], normalize=False)"
   ]
  },
  {
   "cell_type": "markdown",
   "metadata": {},
   "source": [
    "## Service Definition\n",
    "Like in the QuickStart notebook our service definition pipeline consists of three stages. Here we use the Keras classifier as the final stage."
   ]
  },
  {
   "cell_type": "code",
   "execution_count": 30,
   "metadata": {},
   "outputs": [
    {
     "name": "stdout",
     "output_type": "stream",
     "text": [
      "INFO:tensorflow:Froze 0 variables.\n",
      "Converted 0 variables to const ops.\n",
      "INFO:tensorflow:Froze 4 variables.\n",
      "Converted 4 variables to const ops.\n",
      "/Users/mialiu/Downloads/kagglecatsanddogs_3367a/save/service_def\n"
     ]
    }
   ],
   "source": [
    "from amlrealtimeai.pipeline import ServiceDefinition, TensorflowStage, BrainWaveStage, KerasStage\n",
    "\n",
    "service_def = ServiceDefinition()\n",
    "service_def.pipeline.append(TensorflowStage(tf.Session(), in_images, image_tensors))\n",
    "service_def.pipeline.append(BrainWaveStage(featurizer))\n",
    "service_def.pipeline.append(KerasStage(model))\n",
    "\n",
    "service_def_path = os.path.join(datadir, 'save', 'service_def')\n",
    "service_def.save(service_def_path)\n",
    "print(service_def_path)"
   ]
  },
  {
   "cell_type": "markdown",
   "metadata": {},
   "source": [
    "## Deploy"
   ]
  },
  {
   "cell_type": "code",
   "execution_count": 31,
   "metadata": {},
   "outputs": [],
   "source": [
    "from amlrealtimeai import DeploymentClient\n",
    "\n",
    "model_name = \"catsanddogs-model\"\n",
    "service_name = \"modelbuild-service\"\n",
    "\n",
    "deployment_client = DeploymentClient(subscription_id, resource_group, model_management_account)"
   ]
  },
  {
   "cell_type": "markdown",
   "metadata": {},
   "source": [
    "The first time the code below runs it will create a new service running your model. If you want to change the model you can make changes above in this notebook and save a new service definition. Then this code will update the running service in place to run the new model."
   ]
  },
  {
   "cell_type": "code",
   "execution_count": 32,
   "metadata": {},
   "outputs": [
    {
     "name": "stdout",
     "output_type": "stream",
     "text": [
      "Registering model catsanddogs-model\n",
      "Successfully registered model catsanddogs-model\n"
     ]
    }
   ],
   "source": [
    "service = deployment_client.get_service_by_name(service_name)\n",
    "model_id = deployment_client.register_model(model_name, service_def_path)"
   ]
  },
  {
   "cell_type": "code",
   "execution_count": 33,
   "metadata": {},
   "outputs": [
    {
     "name": "stdout",
     "output_type": "stream",
     "text": [
      "Creating service modelbuild-service\n",
      ". . . . . . . . . \n",
      "Successfully created service modelbuild-service\n"
     ]
    }
   ],
   "source": [
    "if(service is None):\n",
    "    service = deployment_client.create_service(service_name, model_id)    \n",
    "else:\n",
    "    service = deployment_client.update_service(service.id, model_id)"
   ]
  },
  {
   "cell_type": "markdown",
   "metadata": {},
   "source": [
    "The service is now running in Azure and ready to serve requests. We can check the address and port."
   ]
  },
  {
   "cell_type": "code",
   "execution_count": 34,
   "metadata": {},
   "outputs": [
    {
     "name": "stdout",
     "output_type": "stream",
     "text": [
      "40.121.62.234:80\n"
     ]
    }
   ],
   "source": [
    "print(service.ipAddress + ':' + str(service.port))"
   ]
  },
  {
   "cell_type": "markdown",
   "metadata": {},
   "source": [
    "## Client\n",
    "There is a simple test client at amlrealtimeai.PredictionClient which can be used for testing. We'll use this client to score an image with our new service."
   ]
  },
  {
   "cell_type": "code",
   "execution_count": 35,
   "metadata": {},
   "outputs": [],
   "source": [
    "from amlrealtimeai import PredictionClient\n",
    "client = PredictionClient(service.ipAddress, service.port)"
   ]
  },
  {
   "cell_type": "markdown",
   "metadata": {},
   "source": [
    "You can adapt the client [code](../../pythonlib/amlrealtimeai/client.py) to meet your needs. There is also an example C# [client](../../sample-clients/csharp).\n",
    "\n",
    "The service provides an API that is compatible with TensorFlow Serving. There are instructions to download a sample client [here](https://www.tensorflow.org/serving/setup)."
   ]
  },
  {
   "cell_type": "markdown",
   "metadata": {},
   "source": [
    "## Request\n",
    "Let's see how our service does on a few images. It may get a few wrong."
   ]
  },
  {
   "cell_type": "code",
   "execution_count": 36,
   "metadata": {},
   "outputs": [
    {
     "name": "stdout",
     "output_type": "stream",
     "text": [
      "CATS\n",
      "CORRECT [0.4911853 0.4856984]\n",
      "CORRECT [0.62519485 0.3544419 ]\n",
      "CORRECT [0.5897753  0.14872892]\n",
      "CORRECT [0.5802131  0.35239896]\n",
      "CORRECT [0.66824925 0.15894377]\n",
      "CORRECT [0.76457125 0.13966438]\n",
      "CORRECT [0.8094868 0.3515233]\n",
      "CORRECT [0.72812706 0.20976284]\n",
      "DOGS\n",
      "CORRECT [0.39778802 0.49379167]\n",
      "CORRECT [0.48429555 0.6952659 ]\n",
      "CORRECT [0.25493044 0.8189195 ]\n",
      "CORRECT [0.31072652 0.62333775]\n",
      "CORRECT [0.2599125 0.6224645]\n",
      "CORRECT [0.32086092 0.6722173 ]\n",
      "CORRECT [0.12503223 0.763471  ]\n",
      "CORRECT [0.40614098 0.40969202]\n"
     ]
    }
   ],
   "source": [
    "# Specify an image to classify\n",
    "print('CATS')\n",
    "for image_file in cat_files[:8]:\n",
    "    results = client.score_image(image_file)\n",
    "    result = 'CORRECT ' if results[0] > results[1] else 'WRONG '\n",
    "    print(result + str(results))\n",
    "print('DOGS')\n",
    "for image_file in dog_files[:8]:\n",
    "    results = client.score_image(image_file)\n",
    "    result = 'CORRECT ' if results[1] > results[0] else 'WRONG '\n",
    "    print(result + str(results))"
   ]
  },
  {
   "cell_type": "markdown",
   "metadata": {},
   "source": [
    "## Cleanup\n",
    "Run the cell below to delete your service."
   ]
  },
  {
   "cell_type": "code",
   "execution_count": 37,
   "metadata": {},
   "outputs": [
    {
     "name": "stdout",
     "output_type": "stream",
     "text": [
      "4c909171960244e4830b9bce837ba9c3\n",
      ". . . . . . . . . . . . . . . . . . . . . . . . . . . . . . . . . . . . . . . . . . . . . . . . . . . . \n",
      "eff4736bda5b4daa907bd025f13c3b53\n",
      "a9e748ce56184c53a41ee42382432ed0\n"
     ]
    }
   ],
   "source": [
    "services = deployment_client.list_services()\n",
    "\n",
    "for service in filter(lambda x: x.name == service_name, services):\n",
    "    print(service.id)\n",
    "    deployment_client.delete_service(service.id)\n",
    "    \n",
    "models = deployment_client.list_models()\n",
    "\n",
    "for model in filter(lambda x: x.name == model_name, models):\n",
    "    print(model.id)\n",
    "    deployment_client.delete_model(model.id)"
   ]
  },
  {
   "cell_type": "markdown",
   "metadata": {},
   "source": [
    "## Appendix"
   ]
  },
  {
   "cell_type": "markdown",
   "metadata": {},
   "source": [
    "License for plot_confusion_matrix:\n",
    "\n",
    "New BSD License\n",
    "\n",
    "Copyright (c) 2007–2018 The scikit-learn developers.\n",
    "All rights reserved.\n",
    "\n",
    "\n",
    "Redistribution and use in source and binary forms, with or without\n",
    "modification, are permitted provided that the following conditions are met:\n",
    "\n",
    "  a. Redistributions of source code must retain the above copyright notice,\n",
    "     this list of conditions and the following disclaimer.\n",
    "  b. Redistributions in binary form must reproduce the above copyright\n",
    "     notice, this list of conditions and the following disclaimer in the\n",
    "     documentation and/or other materials provided with the distribution.\n",
    "  c. Neither the name of the Scikit-learn Developers  nor the names of\n",
    "     its contributors may be used to endorse or promote products\n",
    "     derived from this software without specific prior written\n",
    "     permission. \n",
    "\n",
    "\n",
    "THIS SOFTWARE IS PROVIDED BY THE COPYRIGHT HOLDERS AND CONTRIBUTORS \"AS IS\"\n",
    "AND ANY EXPRESS OR IMPLIED WARRANTIES, INCLUDING, BUT NOT LIMITED TO, THE\n",
    "IMPLIED WARRANTIES OF MERCHANTABILITY AND FITNESS FOR A PARTICULAR PURPOSE\n",
    "ARE DISCLAIMED. IN NO EVENT SHALL THE REGENTS OR CONTRIBUTORS BE LIABLE FOR\n",
    "ANY DIRECT, INDIRECT, INCIDENTAL, SPECIAL, EXEMPLARY, OR CONSEQUENTIAL\n",
    "DAMAGES (INCLUDING, BUT NOT LIMITED TO, PROCUREMENT OF SUBSTITUTE GOODS OR\n",
    "SERVICES; LOSS OF USE, DATA, OR PROFITS; OR BUSINESS INTERRUPTION) HOWEVER\n",
    "CAUSED AND ON ANY THEORY OF LIABILITY, WHETHER IN CONTRACT, STRICT\n",
    "LIABILITY, OR TORT (INCLUDING NEGLIGENCE OR OTHERWISE) ARISING IN ANY WAY\n",
    "OUT OF THE USE OF THIS SOFTWARE, EVEN IF ADVISED OF THE POSSIBILITY OF SUCH\n",
    "DAMAGE.\n"
   ]
  }
 ],
 "metadata": {
  "kernelspec": {
   "display_name": "Python 3",
   "language": "python",
   "name": "python3"
  },
  "language_info": {
   "codemirror_mode": {
    "name": "ipython",
    "version": 3
   },
   "file_extension": ".py",
   "mimetype": "text/x-python",
   "name": "python",
   "nbconvert_exporter": "python",
   "pygments_lexer": "ipython3",
   "version": "3.6.6"
  }
 },
 "nbformat": 4,
 "nbformat_minor": 2
}
