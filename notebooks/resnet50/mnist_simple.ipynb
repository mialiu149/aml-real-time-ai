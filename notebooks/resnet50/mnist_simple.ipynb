{
 "cells": [
  {
   "cell_type": "code",
   "execution_count": 1,
   "metadata": {},
   "outputs": [],
   "source": [
    "import os\n",
    "import sys\n",
    "import tensorflow as tf\n",
    "import numpy as np\n",
    "import amlrealtimeai\n",
    "from amlrealtimeai import resnet50\n",
    "\n",
    "import h5py"
   ]
  },
  {
   "cell_type": "code",
   "execution_count": 2,
   "metadata": {},
   "outputs": [],
   "source": [
    "# Input images as a two-dimensional tensor containing an arbitrary number of images represented a strings\n",
    "import amlrealtimeai.resnet50.utils\n",
    "#in_images = tf.placeholder(tf.string)\n",
    "image_tensors = tf.placeholder(tf.int32,shape=(None,224, 224, 3))\n",
    "#image_tensors = preprocess_numpy(in_images)"
   ]
  },
  {
   "cell_type": "code",
   "execution_count": 3,
   "metadata": {},
   "outputs": [
    {
     "name": "stderr",
     "output_type": "stream",
     "text": [
      "Using TensorFlow backend.\n"
     ]
    },
    {
     "name": "stdout",
     "output_type": "stream",
     "text": [
      "To sign in, use a web browser to open the page https://microsoft.com/devicelogin and enter the code E3Q39U88B to authenticate.\n",
      "1.1.6-rc\n"
     ]
    }
   ],
   "source": [
    "subscription_id = \"80defacd-509e-410c-9812-6e52ed6a0016\"\n",
    "resource_group = \"CMS_FPGA_Resources\"\n",
    "model_management_account = \"CMS_FPGA_1\"\n",
    "\n",
    "from amlrealtimeai.resnet50.model import RemoteQuantizedResNet50\n",
    "model_path = os.path.expanduser('~/models')\n",
    "featurizer = RemoteQuantizedResNet50(subscription_id, resource_group, model_management_account, model_path)\n",
    "print(featurizer.version)"
   ]
  },
  {
   "cell_type": "code",
   "execution_count": 4,
   "metadata": {},
   "outputs": [
    {
     "name": "stdout",
     "output_type": "stream",
     "text": [
      "Registering model resnet50-1.1.6-rc-model\n",
      "Successfully registered model resnet50-1.1.6-rc-model\n",
      "Creating service featurizer-service-08cdb9\n",
      ". . . . . . . . . \n",
      "Successfully created service featurizer-service-08cdb9\n"
     ]
    }
   ],
   "source": [
    "featurizer.import_graph_def(include_top=False, input_tensor=image_tensors)\n",
    "features = featurizer.featurizer_output"
   ]
  },
  {
   "cell_type": "code",
   "execution_count": 24,
   "metadata": {},
   "outputs": [],
   "source": [
    "def preprocess_oneimage(np_array):\n",
    "    image = tf.cast(np_array, dtype=tf.float32)\n",
    "    output_width = 224\n",
    "    output_height = 224\n",
    "    resize_min = 256\n",
    "\n",
    "    image_grayscale = tf.image.grayscale_to_rgb(image)\n",
    "    image_resize = tf.image.resize_images(image_grayscale, [224,224])\n",
    "    #image_resize = amlrealtimeai.resnet50.utils._aspect_preserving_resize(image, resize_min)\n",
    "    #image_resize = amlrealtimeai.resnet50.utils._central_crop(image, output_height, output_width)\n",
    "    image_resize.set_shape([output_height, output_width, 3])\n",
    "    image_resize = tf.to_float(image_resize)\n",
    "    image_resize = tf.expand_dims(image_resize, 0)\n",
    "\n",
    "    slice_red = tf.slice(image_resize, [0, 0, 0, 0], [1, 224, 224, 1])\n",
    "    slice_green = tf.slice(image_resize, [0, 0, 0, 1], [1, 224, 224, 1])\n",
    "    slice_blue = tf.slice(image_resize, [0, 0, 0, 2], [1, 224, 224, 1])\n",
    "\n",
    "    sub_red = tf.subtract(slice_red, 123.68)\n",
    "    sub_green = tf.subtract(slice_green, 116.779)\n",
    "    sub_blue = tf.subtract(slice_blue, 103.939)\n",
    "    return tf.concat([sub_blue, sub_green, sub_red], 3)\n",
    "def _decode(tensor):\n",
    "    return tf.squeeze(preprocess_oneimage(tensor))\n",
    "def preprocess_nparray(in_images):\n",
    "    #tf.convert_to_tensor(in_images)\n",
    "    return tf.map_fn(_decode,in_images, tf.float32)\n",
    "\n",
    "# Load MNIST\n",
    "f = h5py.File(\"/Users/mialiu/Downloads/mnist_test.hdf5\",'r')\n",
    "NUMBER_OF_DATA = 5000\n",
    "images = np.array(f['features'])[:NUMBER_OF_DATA]\n",
    "images = images.reshape(images.shape[0], images.shape[2], images.shape[3], images.shape[1]).astype('float32')\n",
    "images_tf = tf.convert_to_tensor(images)\n",
    "images_preprocessed = preprocess_nparray(images_tf)\n",
    "labels = np.array(f['targets'])\n",
    "labels = labels.reshape(labels.shape[0])\n",
    "\n",
    "with tf.Session() as sess:\n",
    "        images_array = images_preprocessed.eval(session=sess)\n",
    "f.close()\n"
   ]
  },
  {
   "cell_type": "code",
   "execution_count": 16,
   "metadata": {
    "scrolled": false
   },
   "outputs": [
    {
     "name": "stderr",
     "output_type": "stream",
     "text": [
      "\n",
      "0it [00:00, ?it/s]\u001b[A\n",
      "Exception in thread Thread-4:\n",
      "Traceback (most recent call last):\n",
      "  File \"/Users/mialiu/anaconda3/envs/amlrealtimeai/lib/python3.6/threading.py\", line 916, in _bootstrap_inner\n",
      "    self.run()\n",
      "  File \"/Users/mialiu/anaconda3/envs/amlrealtimeai/lib/python3.6/site-packages/tqdm/_tqdm.py\", line 144, in run\n",
      "    for instance in self.tqdm_cls._instances:\n",
      "  File \"/Users/mialiu/anaconda3/envs/amlrealtimeai/lib/python3.6/_weakrefset.py\", line 60, in __iter__\n",
      "    for itemref in self.data:\n",
      "RuntimeError: Set changed size during iteration\n",
      "\n",
      "50it [06:26,  7.74s/it]"
     ]
    },
    {
     "name": "stdout",
     "output_type": "stream",
     "text": [
      "(5000, 1, 1, 2048)\n"
     ]
    },
    {
     "name": "stderr",
     "output_type": "stream",
     "text": [
      "\n"
     ]
    }
   ],
   "source": [
    "import matplotlib.pyplot as plt\n",
    "from tqdm import tqdm\n",
    "\n",
    "def chunks(l, n):\n",
    "    \"\"\"Yield successive n-sized chunks from l.\"\"\"\n",
    "    for i in range(0, images.shape[0], n):\n",
    "        yield l[i:i + n]\n",
    "    \n",
    "# Extract features\n",
    "feature_list = []\n",
    "with tf.Session() as sess:\n",
    "    for chunk in tqdm(chunks(images_array,100)):\n",
    "        result= sess.run([features],feed_dict={image_tensors:chunk})\n",
    "        feature_list.extend(result[0])\n",
    "\n",
    "feature_results = np.array(feature_list)"
   ]
  },
  {
   "cell_type": "code",
   "execution_count": 103,
   "metadata": {},
   "outputs": [],
   "source": [
    "featurizer.cleanup_remote_service()"
   ]
  },
  {
   "cell_type": "code",
   "execution_count": 17,
   "metadata": {},
   "outputs": [],
   "source": [
    "from keras.models import Sequential\n",
    "from keras.layers import Dropout, Dense, Flatten\n",
    "from keras import optimizers\n",
    "\n",
    "FC_SIZE = 1024\n",
    "NUM_CLASSES = 10\n",
    "\n",
    "model = Sequential()\n",
    "model.add(Dropout(0.2, input_shape=(1, 1, 2048,)))\n",
    "model.add(Dense(FC_SIZE, activation='relu', input_dim=(1, 1, 2048,)))\n",
    "model.add(Flatten())\n",
    "model.add(Dense(NUM_CLASSES, activation='sigmoid', input_dim=FC_SIZE))\n",
    "\n",
    "model.compile(optimizer=optimizers.SGD(lr=1e-4,momentum=0.9), loss='binary_crossentropy', metrics=['accuracy'])"
   ]
  },
  {
   "cell_type": "code",
   "execution_count": 18,
   "metadata": {},
   "outputs": [
    {
     "name": "stdout",
     "output_type": "stream",
     "text": [
      "(3750, 1, 1, 2048) (1250, 1, 1, 2048) (3750, 10) (1250, 10)\n"
     ]
    }
   ],
   "source": [
    "from sklearn.model_selection import train_test_split\n",
    "from keras.utils import np_utils\n",
    "\n",
    "onehot_labels = np_utils.to_categorical(labels)\n",
    "X_train, X_test, y_train, y_test = train_test_split(feature_results, onehot_labels[:5000], random_state=42, shuffle=True)\n",
    "print(X_train.shape, X_test.shape, y_train.shape, y_test.shape)"
   ]
  },
  {
   "cell_type": "code",
   "execution_count": 19,
   "metadata": {},
   "outputs": [
    {
     "name": "stdout",
     "output_type": "stream",
     "text": [
      "Epoch 1/16\n",
      "3750/3750 [==============================] - 3s 680us/step - loss: 0.4560 - acc: 0.8170\n",
      "Epoch 2/16\n",
      "3750/3750 [==============================] - 2s 533us/step - loss: 0.3326 - acc: 0.8992\n",
      "Epoch 3/16\n",
      "3750/3750 [==============================] - 2s 526us/step - loss: 0.3186 - acc: 0.8997\n",
      "Epoch 4/16\n",
      "3750/3750 [==============================] - 2s 528us/step - loss: 0.3044 - acc: 0.9008\n",
      "Epoch 5/16\n",
      "3750/3750 [==============================] - 2s 538us/step - loss: 0.2907 - acc: 0.9020\n",
      "Epoch 6/16\n",
      "3750/3750 [==============================] - 2s 565us/step - loss: 0.2806 - acc: 0.9030\n",
      "Epoch 7/16\n",
      "3750/3750 [==============================] - 2s 578us/step - loss: 0.2705 - acc: 0.9045\n",
      "Epoch 8/16\n",
      "3750/3750 [==============================] - 2s 568us/step - loss: 0.2611 - acc: 0.9061\n",
      "Epoch 9/16\n",
      "3750/3750 [==============================] - 2s 553us/step - loss: 0.2556 - acc: 0.9075\n",
      "Epoch 10/16\n",
      "3750/3750 [==============================] - 2s 661us/step - loss: 0.2468 - acc: 0.9086\n",
      "Epoch 11/16\n",
      "3750/3750 [==============================] - 2s 607us/step - loss: 0.2409 - acc: 0.9111\n",
      "Epoch 12/16\n",
      "3750/3750 [==============================] - 2s 555us/step - loss: 0.2342 - acc: 0.9123\n",
      "Epoch 13/16\n",
      "3750/3750 [==============================] - 2s 549us/step - loss: 0.2298 - acc: 0.9136\n",
      "Epoch 14/16\n",
      "3750/3750 [==============================] - 2s 541us/step - loss: 0.2246 - acc: 0.9149\n",
      "Epoch 15/16\n",
      "3750/3750 [==============================] - 2s 546us/step - loss: 0.2198 - acc: 0.9157\n",
      "Epoch 16/16\n",
      "3750/3750 [==============================] - 2s 643us/step - loss: 0.2167 - acc: 0.9179\n"
     ]
    },
    {
     "data": {
      "text/plain": [
       "<keras.callbacks.History at 0x1a2c8a1c18>"
      ]
     },
     "execution_count": 19,
     "metadata": {},
     "output_type": "execute_result"
    }
   ],
   "source": [
    "model.fit(X_train, y_train, epochs=16, batch_size=32)"
   ]
  },
  {
   "cell_type": "code",
   "execution_count": 20,
   "metadata": {},
   "outputs": [
    {
     "name": "stdout",
     "output_type": "stream",
     "text": [
      "[[0.16075492 0.03444348 0.09481604 ... 0.03008311 0.1324245  0.29789135]\n",
      " [0.02534615 0.00490385 0.15945785 ... 0.07400102 0.08959952 0.07787781]\n",
      " [0.01459032 0.00471257 0.1430545  ... 0.06910839 0.03221072 0.0487008 ]\n",
      " ...\n",
      " [0.12292039 0.19669485 0.15222585 ... 0.04283774 0.08361918 0.3038162 ]\n",
      " [0.01508293 0.07729933 0.11828277 ... 0.4071756  0.03243372 0.08677053]\n",
      " [0.02695207 0.0110796  0.19062136 ... 0.04440204 0.02207025 0.0583211 ]]\n",
      "[9 3 3 ... 9 7 2]\n",
      "[9 5 5 ... 9 7 2]\n"
     ]
    }
   ],
   "source": [
    "from numpy import argmax\n",
    "\n",
    "y_probs = model.predict(X_test)\n",
    "y_prob_max = np.argmax(y_probs, 1)\n",
    "y_test_max = np.argmax(y_test, 1)\n",
    "print(y_probs)\n",
    "print(y_prob_max)\n",
    "print(y_test_max)"
   ]
  },
  {
   "cell_type": "code",
   "execution_count": 21,
   "metadata": {},
   "outputs": [
    {
     "name": "stdout",
     "output_type": "stream",
     "text": [
      "Accuracy 0.736\n",
      "Precision [0.85964912 0.93706294 0.48701299 0.53266332 0.7875     0.5625\n",
      " 0.86407767 0.77570093 0.7739726  0.80555556]\n",
      "Recall [0.94230769 0.97101449 0.67567568 0.94642857 0.86896552 0.06569343\n",
      " 0.7007874  0.63358779 0.91129032 0.71900826]\n",
      "F1 [0.89908257 0.95373665 0.56603774 0.68167203 0.82622951 0.11764706\n",
      " 0.77391304 0.69747899 0.83703704 0.75982533]\n",
      "Confusion Matrix [[98, 0, 2, 0, 0, 0, 1, 0, 3, 0], [0, 134, 0, 0, 2, 0, 0, 2, 0, 0], [0, 2, 75, 8, 5, 0, 4, 5, 8, 4], [0, 0, 2, 106, 0, 1, 1, 0, 2, 0], [0, 1, 3, 0, 126, 0, 0, 14, 0, 1], [2, 0, 39, 81, 0, 9, 2, 2, 1, 1], [11, 1, 10, 1, 1, 0, 89, 0, 5, 9], [0, 5, 14, 1, 21, 1, 1, 83, 0, 5], [0, 0, 3, 1, 2, 2, 2, 0, 113, 1], [3, 0, 6, 1, 3, 3, 3, 1, 14, 87]]\n"
     ]
    },
    {
     "data": {
      "image/png": "[encoded data removed]",
      "text/plain": [
       "<Figure size 432x288 with 2 Axes>"
      ]
     },
     "metadata": {
      "needs_background": "light"
     },
     "output_type": "display_data"
    }
   ],
   "source": [
    "from sklearn.metrics import confusion_matrix, roc_auc_score, accuracy_score, precision_score, recall_score, f1_score\n",
    "import itertools\n",
    "import matplotlib\n",
    "from matplotlib import pyplot as plt\n",
    "\n",
    "# compute a bunch of classification metrics \n",
    "def classification_metrics(y_true, y_pred, y_prob):\n",
    "    cm_dict = {}\n",
    "    cm_dict['Accuracy'] = accuracy_score(y_true, y_pred)\n",
    "    cm_dict['Precision'] =  precision_score(y_true, y_pred, average=None)\n",
    "    cm_dict['Recall'] =  recall_score(y_true, y_pred, average=None)\n",
    "    cm_dict['F1'] =  f1_score(y_true, y_pred, average=None) \n",
    "    #cm_dict['AUC'] = roc_auc_score(y_true, y_prob[:,0])\n",
    "    cm_dict['Confusion Matrix'] = confusion_matrix(y_true, y_pred).tolist()\n",
    "    return cm_dict\n",
    "\n",
    "def plot_confusion_matrix(cm, classes, normalize=False, title='Confusion matrix', cmap=plt.cm.Blues):\n",
    "    \"\"\"Plots a confusion matrix.\n",
    "    Source: http://scikit-learn.org/stable/auto_examples/model_selection/plot_confusion_matrix.html\n",
    "    New BSD License - see appendix\n",
    "    \"\"\"\n",
    "    cm_max = cm.max()\n",
    "    cm_min = cm.min()\n",
    "    if cm_min > 0: cm_min = 0\n",
    "    if normalize:\n",
    "        cm = cm.astype('float') / cm.sum(axis=1)[:, np.newaxis]\n",
    "        cm_max = 1\n",
    "    plt.imshow(cm, interpolation='nearest', cmap=cmap)\n",
    "    plt.title(title)\n",
    "    plt.colorbar()\n",
    "    tick_marks = np.arange(len(classes))\n",
    "    plt.xticks(tick_marks, classes, rotation=45)\n",
    "    plt.yticks(tick_marks, classes)\n",
    "    thresh = cm_max / 2.\n",
    "    plt.clim(cm_min, cm_max)\n",
    "\n",
    "    for i, j in itertools.product(range(cm.shape[0]), range(cm.shape[1])):\n",
    "        plt.text(j, i,\n",
    "                 round(cm[i, j], 3),  # round to 3 decimals if they are float\n",
    "                 horizontalalignment=\"center\",\n",
    "                 color=\"white\" if cm[i, j] > thresh else \"black\")\n",
    "    plt.ylabel('True label')\n",
    "    plt.xlabel('Predicted label')\n",
    "    plt.show()\n",
    "    \n",
    "cm_dict = classification_metrics(y_test_max, y_prob_max, y_probs)\n",
    "for m in cm_dict:\n",
    "    print(m, cm_dict[m])\n",
    "cm = np.asarray(cm_dict['Confusion Matrix'])\n",
    "plot_confusion_matrix(cm, ['fail','pass'], normalize=False)"
   ]
  },
  {
   "cell_type": "code",
   "execution_count": null,
   "metadata": {},
   "outputs": [],
   "source": []
  }
 ],
 "metadata": {
  "kernelspec": {
   "display_name": "Python 3",
   "language": "python",
   "name": "python3"
  },
  "language_info": {
   "codemirror_mode": {
    "name": "ipython",
    "version": 3
   },
   "file_extension": ".py",
   "mimetype": "text/x-python",
   "name": "python",
   "nbconvert_exporter": "python",
   "pygments_lexer": "ipython3",
   "version": "3.6.6"
  }
 },
 "nbformat": 4,
 "nbformat_minor": 2
}
